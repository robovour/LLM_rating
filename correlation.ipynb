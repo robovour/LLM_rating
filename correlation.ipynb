{
 "cells": [
  {
   "cell_type": "code",
   "execution_count": 9,
   "metadata": {},
   "outputs": [],
   "source": [
    "import pandas as pd\n",
    "import numpy as np\n",
    "import scipy"
   ]
  },
  {
   "cell_type": "code",
   "execution_count": 4,
   "metadata": {},
   "outputs": [],
   "source": [
    "def pearson(x,y):\n",
    "    return scipy.stats.pearsonr(x, y)\n",
    "def spearman(x,y):\n",
    "    return scipy.stats.spearmanr(x, y)\n",
    "def kendallta(x,y):\n",
    "    return scipy.stats.kendalltau(x,y)"
   ]
  },
  {
   "cell_type": "code",
   "execution_count": 5,
   "metadata": {},
   "outputs": [],
   "source": [
    "Fi = []#scores of the ith answer(intuition: similarity between standard answer and generated answer) assigned by the automatic metric f, from system 1 to system S\n",
    "Hi = []#scores of the ith answer assigned by human, from system 1 to system S (S elements in total)\n",
    "F = []#scores assigned by the automatic metric f, from answer 1 to answer N (N elements in total)\n",
    "H = []#scores assigned by human, from answer 1 to answer N (N elements in total)"
   ]
  },
  {
   "cell_type": "code",
   "execution_count": 6,
   "metadata": {},
   "outputs": [],
   "source": [
    "#测试数据\n",
    "F = [[8,8,7],[6,8,7],[5,7,6],[5,8,7]]\n",
    "H = [[7,5,8],[6,8,7],[7,9,8],[5,7,6]]"
   ]
  },
  {
   "cell_type": "code",
   "execution_count": 15,
   "metadata": {},
   "outputs": [],
   "source": [
    "def text_level_correlation(correlation_measure, F,H ):\n",
    "    if len(F) != len(H):\n",
    "        print(\"length mismatch of F and H\")\n",
    "        return 0\n",
    "    N = len(F)\n",
    "    score = 0.\n",
    "    for Fi , Hi in zip(F,H):\n",
    "        score += correlation_measure(Fi, Hi)[0]\n",
    "    return score/N"
   ]
  },
  {
   "cell_type": "code",
   "execution_count": 28,
   "metadata": {},
   "outputs": [],
   "source": [
    "def system_level_correlation(correlation_measure, F, H):\n",
    "    if len(F) != len(H):\n",
    "        print(\"length mismatch of F and H\")\n",
    "        return 0\n",
    "    S = len(F[0])\n",
    "    N = len(F)\n",
    "    Fs = np.zeros(S)\n",
    "    Hs = np.zeros(S)\n",
    "    for Fi , Hi in zip(F,H):\n",
    "        for i in range(S):\n",
    "            Fs[i] += Fi[i]\n",
    "            Hs[i] += Hi[i]\n",
    "    Fs /= N\n",
    "    Hs /= N\n",
    "    return correlation_measure(Fs, Hs)[0]"
   ]
  },
  {
   "cell_type": "code",
   "execution_count": 18,
   "metadata": {},
   "outputs": [
    {
     "data": {
      "text/plain": [
       "0.5458758547680684"
      ]
     },
     "execution_count": 18,
     "metadata": {},
     "output_type": "execute_result"
    }
   ],
   "source": [
    "text_level_correlation(kendallta, F, H)"
   ]
  },
  {
   "cell_type": "code",
   "execution_count": 29,
   "metadata": {},
   "outputs": [
    {
     "data": {
      "text/plain": [
       "0.8219949365267865"
      ]
     },
     "execution_count": 29,
     "metadata": {},
     "output_type": "execute_result"
    }
   ],
   "source": [
    "system_level_correlation(pearson,F,H)"
   ]
  }
 ],
 "metadata": {
  "kernelspec": {
   "display_name": "llm2",
   "language": "python",
   "name": "python3"
  },
  "language_info": {
   "codemirror_mode": {
    "name": "ipython",
    "version": 3
   },
   "file_extension": ".py",
   "mimetype": "text/x-python",
   "name": "python",
   "nbconvert_exporter": "python",
   "pygments_lexer": "ipython3",
   "version": "3.8.17"
  }
 },
 "nbformat": 4,
 "nbformat_minor": 2
}
