{
 "cells": [
  {
   "cell_type": "code",
   "execution_count": 4,
   "metadata": {},
   "outputs": [
    {
     "data": {
      "text/html": [
       "<div>\n",
       "<style scoped>\n",
       "    .dataframe tbody tr th:only-of-type {\n",
       "        vertical-align: middle;\n",
       "    }\n",
       "\n",
       "    .dataframe tbody tr th {\n",
       "        vertical-align: top;\n",
       "    }\n",
       "\n",
       "    .dataframe thead th {\n",
       "        text-align: right;\n",
       "    }\n",
       "</style>\n",
       "<table border=\"1\" class=\"dataframe\">\n",
       "  <thead>\n",
       "    <tr style=\"text-align: right;\">\n",
       "      <th></th>\n",
       "      <th>id</th>\n",
       "      <th>question</th>\n",
       "    </tr>\n",
       "  </thead>\n",
       "  <tbody>\n",
       "    <tr>\n",
       "      <th>0</th>\n",
       "      <td>0</td>\n",
       "      <td>能否根据2020年金宇生物技术股份有限公司的年报，给我简要介绍一下报告期内公司的社会责任工作情况？</td>\n",
       "    </tr>\n",
       "    <tr>\n",
       "      <th>1</th>\n",
       "      <td>1</td>\n",
       "      <td>请根据江化微2019年的年报，简要介绍报告期内公司主要销售客户的客户集中度情况，并结合同行业...</td>\n",
       "    </tr>\n",
       "    <tr>\n",
       "      <th>2</th>\n",
       "      <td>2</td>\n",
       "      <td>2019年四方科技电子信箱是什么?</td>\n",
       "    </tr>\n",
       "    <tr>\n",
       "      <th>3</th>\n",
       "      <td>3</td>\n",
       "      <td>研发费用对公司的技术创新和竞争优势有何影响？</td>\n",
       "    </tr>\n",
       "    <tr>\n",
       "      <th>4</th>\n",
       "      <td>4</td>\n",
       "      <td>康希诺生物股份公司在2020年的资产负债比率具体是多少，需要保留至小数点后两位？</td>\n",
       "    </tr>\n",
       "    <tr>\n",
       "      <th>...</th>\n",
       "      <td>...</td>\n",
       "      <td>...</td>\n",
       "    </tr>\n",
       "    <tr>\n",
       "      <th>1995</th>\n",
       "      <td>1995</td>\n",
       "      <td>三生国健在2020年的净利润是多少元?</td>\n",
       "    </tr>\n",
       "    <tr>\n",
       "      <th>1996</th>\n",
       "      <td>1996</td>\n",
       "      <td>哈尔滨空调股份有限公司2021年法定代表人对比2019年是否相同?</td>\n",
       "    </tr>\n",
       "    <tr>\n",
       "      <th>1997</th>\n",
       "      <td>1997</td>\n",
       "      <td>请简要分析陕西广电网络传媒（集团）股份有限公司2020年核心竞争力的情况。</td>\n",
       "    </tr>\n",
       "    <tr>\n",
       "      <th>1998</th>\n",
       "      <td>1998</td>\n",
       "      <td>2020年广州达安基因股份有限公司净利润是多少元?</td>\n",
       "    </tr>\n",
       "    <tr>\n",
       "      <th>1999</th>\n",
       "      <td>1999</td>\n",
       "      <td>根据2019年红宝丽的年报，请简要介绍报告期内公司主要销售客户客户集中度如何？请结合同行业情...</td>\n",
       "    </tr>\n",
       "  </tbody>\n",
       "</table>\n",
       "<p>2000 rows × 2 columns</p>\n",
       "</div>"
      ],
      "text/plain": [
       "        id                                           question\n",
       "0        0  能否根据2020年金宇生物技术股份有限公司的年报，给我简要介绍一下报告期内公司的社会责任工作情况？\n",
       "1        1  请根据江化微2019年的年报，简要介绍报告期内公司主要销售客户的客户集中度情况，并结合同行业...\n",
       "2        2                                  2019年四方科技电子信箱是什么?\n",
       "3        3                             研发费用对公司的技术创新和竞争优势有何影响？\n",
       "4        4           康希诺生物股份公司在2020年的资产负债比率具体是多少，需要保留至小数点后两位？\n",
       "...    ...                                                ...\n",
       "1995  1995                                三生国健在2020年的净利润是多少元?\n",
       "1996  1996                  哈尔滨空调股份有限公司2021年法定代表人对比2019年是否相同?\n",
       "1997  1997              请简要分析陕西广电网络传媒（集团）股份有限公司2020年核心竞争力的情况。\n",
       "1998  1998                          2020年广州达安基因股份有限公司净利润是多少元?\n",
       "1999  1999  根据2019年红宝丽的年报，请简要介绍报告期内公司主要销售客户客户集中度如何？请结合同行业情...\n",
       "\n",
       "[2000 rows x 2 columns]"
      ]
     },
     "execution_count": 4,
     "metadata": {},
     "output_type": "execute_result"
    }
   ],
   "source": [
    "import pandas as pd\n",
    "import numpy as np\n",
    "df = pd.read_json('金融/FinGLM/data/A-data/A-list-question.json',lines = True)\n",
    "df"
   ]
  },
  {
   "cell_type": "code",
   "execution_count": 9,
   "metadata": {},
   "outputs": [
    {
     "data": {
      "text/html": [
       "<div>\n",
       "<style scoped>\n",
       "    .dataframe tbody tr th:only-of-type {\n",
       "        vertical-align: middle;\n",
       "    }\n",
       "\n",
       "    .dataframe tbody tr th {\n",
       "        vertical-align: top;\n",
       "    }\n",
       "\n",
       "    .dataframe thead th {\n",
       "        text-align: right;\n",
       "    }\n",
       "</style>\n",
       "<table border=\"1\" class=\"dataframe\">\n",
       "  <thead>\n",
       "    <tr style=\"text-align: right;\">\n",
       "      <th></th>\n",
       "      <th>id</th>\n",
       "      <th>question</th>\n",
       "      <th>prompt</th>\n",
       "      <th>answer</th>\n",
       "      <th>type</th>\n",
       "    </tr>\n",
       "  </thead>\n",
       "  <tbody>\n",
       "    <tr>\n",
       "      <th>0</th>\n",
       "      <td>0</td>\n",
       "      <td>2019-2021年哪些家上市公司货币总额均位列前十？</td>\n",
       "      <td>{'ent_short_name': '新城控股', 'ent_name': '新城控股集团...</td>\n",
       "      <td>[2019-2021年货币总额排名位列前十的上市公司为新城控股集团股份有限公司。, 2019...</td>\n",
       "      <td>1</td>\n",
       "    </tr>\n",
       "    <tr>\n",
       "      <th>1</th>\n",
       "      <td>1</td>\n",
       "      <td>递延所得税资产/递延所得税负债是什么？</td>\n",
       "      <td>{}</td>\n",
       "      <td>[递延所得税资产和递延所得税负债是指企业因税法规定的不同而导致的税务和会计利润之间的差异。递...</td>\n",
       "      <td>3-2</td>\n",
       "    </tr>\n",
       "    <tr>\n",
       "      <th>2</th>\n",
       "      <td>2</td>\n",
       "      <td>请具体描述一下2019年迈瑞医疗社会责任情况。</td>\n",
       "      <td>{'ent_short_name': '迈瑞医疗', 'ent_name': '深圳迈瑞生物...</td>\n",
       "      <td>[在2019年，迈瑞医疗公司积极履行社会责任，包括环境保护方面的合规措施，但暂未开展精准扶贫...</td>\n",
       "      <td>3-1</td>\n",
       "    </tr>\n",
       "    <tr>\n",
       "      <th>3</th>\n",
       "      <td>3</td>\n",
       "      <td>2021年货币资金最高的前3家上市公司为？</td>\n",
       "      <td>{'ent_short_name': '', 'ent_name': '', 'year':...</td>\n",
       "      <td>[2021年货币资金最高的前3家上市公司分别为上海建工集团股份有限公司、东方财富信息股份有限...</td>\n",
       "      <td>1-2</td>\n",
       "    </tr>\n",
       "    <tr>\n",
       "      <th>4</th>\n",
       "      <td>4</td>\n",
       "      <td>请提供诚益通2020年的净利润增长率并保留2位小数</td>\n",
       "      <td>{'净利润': '61868406.67元', '上年净利润': '83266718.0元'...</td>\n",
       "      <td>[根据公式：净利润增长率=(净利润-上年净利润)/上年净利润，得出诚益通2020年的净利润增...</td>\n",
       "      <td>2-1</td>\n",
       "    </tr>\n",
       "    <tr>\n",
       "      <th>...</th>\n",
       "      <td>...</td>\n",
       "      <td>...</td>\n",
       "      <td>...</td>\n",
       "      <td>...</td>\n",
       "      <td>...</td>\n",
       "    </tr>\n",
       "    <tr>\n",
       "      <th>1995</th>\n",
       "      <td>1995</td>\n",
       "      <td>上海梅林正广和股份有限公司在2020年的时候研发人员人数是多少？</td>\n",
       "      <td>{'ent_short_name': '上海梅林', 'ent_name': '上海梅林正广...</td>\n",
       "      <td>[2020年上海梅林正广和股份有限公司研发人员人数是299人, 上海梅林正广和股份有限公司2...</td>\n",
       "      <td>1</td>\n",
       "    </tr>\n",
       "    <tr>\n",
       "      <th>1996</th>\n",
       "      <td>1996</td>\n",
       "      <td>在2020年的时候，宇瞳光学总负债增长率为多少？</td>\n",
       "      <td>{'总负债': '1444294497.02元', '上年总负债': '930414231....</td>\n",
       "      <td>[东莞市宇瞳光学科技股份有限公司2020年的总负债为1444294497.02元，上年总负债...</td>\n",
       "      <td>2-1</td>\n",
       "    </tr>\n",
       "    <tr>\n",
       "      <th>1997</th>\n",
       "      <td>1997</td>\n",
       "      <td>请告诉我2020年上海梅林正广和股份有限公司的年报中，速动比率保留两位小数为多少。</td>\n",
       "      <td>{'流动资产': '8982739984.37元', '存货': '3091882664.6...</td>\n",
       "      <td>[2020年上海梅林正广和股份有限公司速动比率保留两位小数为0.95。将流动资产898273...</td>\n",
       "      <td>2-1</td>\n",
       "    </tr>\n",
       "    <tr>\n",
       "      <th>1998</th>\n",
       "      <td>1998</td>\n",
       "      <td>什么是其他应收款？</td>\n",
       "      <td>{}</td>\n",
       "      <td>[其他应收款是指企业在日常经营活动中形成的非长期债权。它包括了与公司业务活动相关的各种短期债...</td>\n",
       "      <td>3-2</td>\n",
       "    </tr>\n",
       "    <tr>\n",
       "      <th>1999</th>\n",
       "      <td>1999</td>\n",
       "      <td>什么是资产收益率？</td>\n",
       "      <td>{}</td>\n",
       "      <td>[资产收益率是指企业在一定会计期间内所获得的净利润与平均资产之间的比率。它是衡量企业资产运营...</td>\n",
       "      <td>3-2</td>\n",
       "    </tr>\n",
       "  </tbody>\n",
       "</table>\n",
       "<p>2000 rows × 5 columns</p>\n",
       "</div>"
      ],
      "text/plain": [
       "        id                                   question  \\\n",
       "0        0                2019-2021年哪些家上市公司货币总额均位列前十？   \n",
       "1        1                        递延所得税资产/递延所得税负债是什么？   \n",
       "2        2                    请具体描述一下2019年迈瑞医疗社会责任情况。   \n",
       "3        3                      2021年货币资金最高的前3家上市公司为？   \n",
       "4        4                  请提供诚益通2020年的净利润增长率并保留2位小数   \n",
       "...    ...                                        ...   \n",
       "1995  1995           上海梅林正广和股份有限公司在2020年的时候研发人员人数是多少？   \n",
       "1996  1996                   在2020年的时候，宇瞳光学总负债增长率为多少？   \n",
       "1997  1997  请告诉我2020年上海梅林正广和股份有限公司的年报中，速动比率保留两位小数为多少。   \n",
       "1998  1998                                  什么是其他应收款？   \n",
       "1999  1999                                  什么是资产收益率？   \n",
       "\n",
       "                                                 prompt  \\\n",
       "0     {'ent_short_name': '新城控股', 'ent_name': '新城控股集团...   \n",
       "1                                                    {}   \n",
       "2     {'ent_short_name': '迈瑞医疗', 'ent_name': '深圳迈瑞生物...   \n",
       "3     {'ent_short_name': '', 'ent_name': '', 'year':...   \n",
       "4     {'净利润': '61868406.67元', '上年净利润': '83266718.0元'...   \n",
       "...                                                 ...   \n",
       "1995  {'ent_short_name': '上海梅林', 'ent_name': '上海梅林正广...   \n",
       "1996  {'总负债': '1444294497.02元', '上年总负债': '930414231....   \n",
       "1997  {'流动资产': '8982739984.37元', '存货': '3091882664.6...   \n",
       "1998                                                 {}   \n",
       "1999                                                 {}   \n",
       "\n",
       "                                                 answer type  \n",
       "0     [2019-2021年货币总额排名位列前十的上市公司为新城控股集团股份有限公司。, 2019...    1  \n",
       "1     [递延所得税资产和递延所得税负债是指企业因税法规定的不同而导致的税务和会计利润之间的差异。递...  3-2  \n",
       "2     [在2019年，迈瑞医疗公司积极履行社会责任，包括环境保护方面的合规措施，但暂未开展精准扶贫...  3-1  \n",
       "3     [2021年货币资金最高的前3家上市公司分别为上海建工集团股份有限公司、东方财富信息股份有限...  1-2  \n",
       "4     [根据公式：净利润增长率=(净利润-上年净利润)/上年净利润，得出诚益通2020年的净利润增...  2-1  \n",
       "...                                                 ...  ...  \n",
       "1995  [2020年上海梅林正广和股份有限公司研发人员人数是299人, 上海梅林正广和股份有限公司2...    1  \n",
       "1996  [东莞市宇瞳光学科技股份有限公司2020年的总负债为1444294497.02元，上年总负债...  2-1  \n",
       "1997  [2020年上海梅林正广和股份有限公司速动比率保留两位小数为0.95。将流动资产898273...  2-1  \n",
       "1998  [其他应收款是指企业在日常经营活动中形成的非长期债权。它包括了与公司业务活动相关的各种短期债...  3-2  \n",
       "1999  [资产收益率是指企业在一定会计期间内所获得的净利润与平均资产之间的比率。它是衡量企业资产运营...  3-2  \n",
       "\n",
       "[2000 rows x 5 columns]"
      ]
     },
     "execution_count": 9,
     "metadata": {},
     "output_type": "execute_result"
    }
   ],
   "source": [
    "df2 = pd.read_json('金融/FinGLM/data/B-data/B-list-answer.json',lines = True)\n",
    "df2"
   ]
  },
  {
   "cell_type": "code",
   "execution_count": 10,
   "metadata": {},
   "outputs": [],
   "source": [
    "df2.to_excel(\"准备清洗.xlsx\")"
   ]
  },
  {
   "cell_type": "code",
   "execution_count": 26,
   "metadata": {},
   "outputs": [],
   "source": [
    "#删除回答开头的空白和结尾对问题的重复\n",
    "for i in df.index:\n",
    "    while(df.loc[i,\"answer\"][0] == \"\\t\" or df.loc[i,\"answer\"][0] == \" \"):\n",
    "        df.loc[i,\"answer\"] = df.loc[i,\"answer\"][1:]\n",
    "for i in df.index:\n",
    "    df.loc[i,\"answer\"] = df.loc[i,\"answer\"].replace(df.loc[i,\"question\"],\"\")"
   ]
  },
  {
   "cell_type": "code",
   "execution_count": 27,
   "metadata": {},
   "outputs": [],
   "source": [
    "df.to_excel('处理数据.xlsx', sheet_name='Sheet1', index=False) "
   ]
  },
  {
   "cell_type": "code",
   "execution_count": 2,
   "metadata": {},
   "outputs": [],
   "source": [
    "import difflib\n",
    "def similarity(s1, s2):\n",
    "    return difflib.SequenceMatcher(None, s1, s2).quick_ratio()"
   ]
  },
  {
   "cell_type": "code",
   "execution_count": 18,
   "metadata": {},
   "outputs": [
    {
     "name": "stdout",
     "output_type": "stream",
     "text": [
      "企业参加财产保险缴纳的保费，是否可在企业所得税前扣除？ 18\n",
      "企业发给员工的供暖费能否在企业所得税税前扣除？ 160\n",
      "\n",
      "企业的土地被政府收回后取得的补偿款是否需要申报缴纳营业税？ 49\n",
      "企业取得的赞助款是否要缴纳营业税？ 202\n",
      "\n",
      "污水处理费收入需要缴纳营业税吗？ 50\n",
      "公墓转让墓地取得的收入需要缴纳营业税吗？ 184\n",
      "\n",
      "公司取得的红字增值税专用发票，要进行认证吗？ 126\n",
      "请问一般纳税人企业取得的红字增值税专用发票还需要认证吗？ 225\n",
      "\n",
      "企业发给员工的供暖费能否在企业所得税税前扣除？ 160\n",
      "企业参加财产保险缴纳的保费，是否可在企业所得税前扣除？ 18\n",
      "\n",
      "网络布线按什么税目征收营业税？ 174\n",
      "转租业务按什么税目征收营业税？ 242\n",
      "\n",
      "公墓转让墓地取得的收入需要缴纳营业税吗？ 184\n",
      "污水处理费收入需要缴纳营业税吗？ 50\n",
      "\n",
      "企业计提的环境保护资金可否在企业所得税税前扣除？ 199\n",
      "企业参加财产保险缴纳的保费，是否可在企业所得税前扣除？ 18\n",
      "\n",
      "企业取得的赞助款是否要缴纳营业税？ 202\n",
      "企业的土地被政府收回后取得的补偿款是否需要申报缴纳营业税？ 49\n",
      "\n",
      "免税单位与纳税单位之间无偿使用的土地应如何缴纳城镇土地使用税？ 218\n",
      "未取得土地使用证的情况下城镇土地使用税的缴纳时间如何确定？ 220\n",
      "\n",
      "未取得土地使用证的情况下城镇土地使用税的缴纳时间如何确定？ 220\n",
      "免税单位与纳税单位之间无偿使用的土地应如何缴纳城镇土地使用税？ 218\n",
      "\n",
      "请问一般纳税人企业取得的红字增值税专用发票还需要认证吗？ 225\n",
      "公司取得的红字增值税专用发票，要进行认证吗？ 126\n",
      "\n",
      "转租业务按什么税目征收营业税？ 242\n",
      "网络布线按什么税目征收营业税？ 174\n",
      "\n",
      "企业发生的汇兑损失能否在企业所得税前扣除？ 248\n",
      "企业发给员工的供暖费能否在企业所得税税前扣除？ 160\n",
      "\n"
     ]
    }
   ],
   "source": [
    "#检测相似的问题（然后人工筛选）\n",
    "for i in df.index:\n",
    "    for j in df.index:\n",
    "        if i == j:\n",
    "            continue\n",
    "        if(similarity(df.loc[i,\"question\"],df.loc[j,\"question\"])>=0.6):\n",
    "            print(df.loc[i,\"question\"],end = \" \")\n",
    "            print(i)\n",
    "            print(df.loc[j,\"question\"],end = \" \")\n",
    "            print(j)\n",
    "            print()\n",
    "            break"
   ]
  },
  {
   "cell_type": "code",
   "execution_count": 3,
   "metadata": {},
   "outputs": [],
   "source": [
    "#排除字数过多的问答\n",
    "for i in df.index:\n",
    "    if(len(df.loc[i,\"question\"]) >= 100 or len(df.loc[i,\"answer\"]) >= 300):\n",
    "        df = df.drop(i)"
   ]
  },
  {
   "cell_type": "code",
   "execution_count": 4,
   "metadata": {},
   "outputs": [
    {
     "data": {
      "text/plain": [
       "533"
      ]
     },
     "execution_count": 4,
     "metadata": {},
     "output_type": "execute_result"
    }
   ],
   "source": [
    "df.shape[0]"
   ]
  },
  {
   "cell_type": "code",
   "execution_count": 5,
   "metadata": {},
   "outputs": [],
   "source": [
    "#排除可能失效的问题\n",
    "years = ['2023','2022','2021','2020','2019','2018','2017','2016','2015','2014','2013','2012','2011','2010']\n",
    "for i in df.index:\n",
    "    for word in years:\n",
    "        if word in df.loc[i,\"question\"] or word in df.loc[i,\"answer\"]:\n",
    "            df = df.drop(i)\n",
    "            break\n",
    "        "
   ]
  },
  {
   "cell_type": "code",
   "execution_count": 6,
   "metadata": {},
   "outputs": [
    {
     "data": {
      "text/plain": [
       "413"
      ]
     },
     "execution_count": 6,
     "metadata": {},
     "output_type": "execute_result"
    }
   ],
   "source": [
    "df.shape[0]"
   ]
  },
  {
   "cell_type": "code",
   "execution_count": 7,
   "metadata": {},
   "outputs": [],
   "source": [
    "#排除没有引用法条的问题\n",
    "for i in df.index:\n",
    "    if '《' not in df.loc[i,\"question\"] and '》' not in df.loc[i,\"answer\"]:\n",
    "        df = df.drop(i)"
   ]
  },
  {
   "cell_type": "code",
   "execution_count": 8,
   "metadata": {},
   "outputs": [
    {
     "data": {
      "text/plain": [
       "182"
      ]
     },
     "execution_count": 8,
     "metadata": {},
     "output_type": "execute_result"
    }
   ],
   "source": [
    "df.shape[0]"
   ]
  },
  {
   "cell_type": "code",
   "execution_count": 9,
   "metadata": {},
   "outputs": [],
   "source": [
    "#排除带有地区的问题\n",
    "provinces = ['河北','山西','辽宁','吉林','黑龙江','江苏','浙江','安徽','福建','江西','山东','河南','湖北','湖南','广东','海南','四川','贵州','云南','陕西','甘肃','青海','台湾','内蒙古','广西','西藏','宁夏','新疆','北京','天津','上海','重庆','香港','澳门']\n",
    "for i in df.index:\n",
    "    for word in provinces:\n",
    "        if word in df.loc[i,\"question\"] or word in df.loc[i,\"answer\"]:\n",
    "            df = df.drop(i)\n",
    "            break"
   ]
  },
  {
   "cell_type": "code",
   "execution_count": 10,
   "metadata": {},
   "outputs": [
    {
     "data": {
      "text/plain": [
       "170"
      ]
     },
     "execution_count": 10,
     "metadata": {},
     "output_type": "execute_result"
    }
   ],
   "source": [
    "df.shape[0]"
   ]
  },
  {
   "cell_type": "code",
   "execution_count": 11,
   "metadata": {},
   "outputs": [],
   "source": [
    "#排除情景分析题\n",
    "for i in df.index:\n",
    "    if \"情景分析\" in df.loc[i,\"category\"]:\n",
    "        df = df.drop(i)\n",
    "        "
   ]
  },
  {
   "cell_type": "code",
   "execution_count": 12,
   "metadata": {},
   "outputs": [
    {
     "data": {
      "text/plain": [
       "170"
      ]
     },
     "execution_count": 12,
     "metadata": {},
     "output_type": "execute_result"
    }
   ],
   "source": [
    "df.shape[0]"
   ]
  },
  {
   "cell_type": "code",
   "execution_count": 29,
   "metadata": {},
   "outputs": [],
   "source": [
    "df.to_excel('处理数据.xlsx', sheet_name='Sheet1', index=False) "
   ]
  }
 ],
 "metadata": {
  "kernelspec": {
   "display_name": "pic",
   "language": "python",
   "name": "python3"
  },
  "language_info": {
   "codemirror_mode": {
    "name": "ipython",
    "version": 3
   },
   "file_extension": ".py",
   "mimetype": "text/x-python",
   "name": "python",
   "nbconvert_exporter": "python",
   "pygments_lexer": "ipython3",
   "version": "3.8.17"
  }
 },
 "nbformat": 4,
 "nbformat_minor": 2
}
